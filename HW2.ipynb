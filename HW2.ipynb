{
  "nbformat": 4,
  "nbformat_minor": 0,
  "metadata": {
    "colab": {
      "name": "HW2.ipynb",
      "provenance": [],
      "collapsed_sections": [],
      "toc_visible": true
    },
    "kernelspec": {
      "name": "python3",
      "display_name": "Python 3"
    },
    "accelerator": "GPU"
  },
  "cells": [
    {
      "cell_type": "markdown",
      "metadata": {
        "id": "CPSqaNgZ5Cht",
        "colab_type": "text"
      },
      "source": [
        "#**Logistic Regression**#\n",
        "To help you better understand the pros and cons of first- and second-order methods,\n",
        "we will look at Logistic Regression as an example. \\\\\n"
      ]
    },
    {
      "cell_type": "markdown",
      "metadata": {
        "id": "pp7fKj9l7i_v",
        "colab_type": "text"
      },
      "source": [
        "**Step 1**: You already have the gradient descent algorithm (use the line search version from PA1). Now,\n",
        "code up the Newton’s method algorithm as well. Write a function using the format below:"
      ]
    },
    {
      "cell_type": "code",
      "metadata": {
        "id": "KFgovp0R7nek",
        "colab_type": "code",
        "colab": {}
      },
      "source": [
        "import timeit\n",
        "import time\n",
        "import numpy as np\n",
        "from scipy import special\n",
        "import matplotlib.pyplot as plt\n",
        "import math\n",
        "\n",
        "def gd_ls(f,fp,y,A,xinit,ss_init,maxit,tol):\n",
        "  \"\"\"\n",
        "  Note that ss changes to ss_init\n",
        "  ss_init is the starting stepsize for backtracking\n",
        "  \"\"\"\n",
        "  # Add your code here\n",
        "  count = 0\n",
        "  xList = []\n",
        "  xList.append(xinit)\n",
        "  stop = False\n",
        "  a = 1\n",
        "  b = .5\n",
        "  while not stop:\n",
        "    value = f(y, A, xList[count])\n",
        "    gradient = fp(y, A, xList[count])\n",
        "    t = ss_init\n",
        "    while f(y, A, np.subtract(xList[count], (t*gradient))) > value - a/2*t*math.pow(np.linalg.norm(gradient, 2),2):\n",
        "      t = b*t\n",
        "    update = np.subtract(xList[count], (t*gradient))\n",
        "    xList.append(update)\n",
        "    count+=1\n",
        "    #print(xList[count])\n",
        "    #print(value)\n",
        "    #print(f(y, A, xList[count]))\n",
        "    if count >= maxit:\n",
        "      print(\"maxit\")\n",
        "      break\n",
        "    elif abs((f(y, A, xList[count])-value)/value) < tol:\n",
        "      print(\"convergence\")\n",
        "      break\n",
        "  return xList[count], count\n",
        "\n",
        "def gd_ls_graph(f,fp,y,A,xinit,ss_init,maxit,tol):\n",
        "  \"\"\"\n",
        "  Note that ss changes to ss_init\n",
        "  ss_init is the starting stepsize for backtracking\n",
        "  \"\"\"\n",
        "  # Add your code here\n",
        "  count = 0\n",
        "  xList = []\n",
        "  xList.append(xinit)\n",
        "  coef = []\n",
        "  stop = False\n",
        "  a = 1\n",
        "  b = .5\n",
        "  while not stop:\n",
        "    value = f(y, A, xList[count])\n",
        "    gradient = fp(y, A, xList[count])\n",
        "    t = ss_init\n",
        "    while f(y, A, np.subtract(xList[count], (t*gradient))) > value - a/2*t*math.pow(np.linalg.norm(gradient, 2),2):\n",
        "      t = b*t\n",
        "    update = np.subtract(xList[count], (t*gradient))\n",
        "    xList.append(update)\n",
        "    coef.append(update[0])\n",
        "    count+=1\n",
        "    if count >= maxit:\n",
        "      print(\"maxit\")\n",
        "      break\n",
        "    elif abs((f(y, A, xList[count])-value)/value) < tol:\n",
        "      print(\"convergence\")\n",
        "      break\n",
        "  return xList[count], xList, coef, count,\n",
        "\n",
        "def gd_const_graph(f,fp,y,A,xinit,ss,maxit,tol):\n",
        "  \"\"\"\n",
        "  f is the handle for the minimization objective\n",
        "  fp is the handle for the gradient\n",
        "  y is the input observation vector\n",
        "  A is the input matrix of covariates\n",
        "  x_init is the initalized value of the regression coefficient\n",
        "  ss is the constant step size\n",
        "  maxit and tol help you terminate the iterations\n",
        "  \"\"\"\n",
        "  # Add your code here\n",
        "  count = 0\n",
        "  xList = []\n",
        "  xList.append(xinit)\n",
        "  objList = []\n",
        "  coef = []\n",
        "  stop = False\n",
        "  while not stop:\n",
        "    value = f(y, A, xList[count])\n",
        "    print(value)\n",
        "    gradient = fp(y, A, xList[count])\n",
        "    objList.append(value)\n",
        "    update = np.subtract(xList[count], (ss*gradient))\n",
        "    xList.append(update)\n",
        "    coef.append(update[0])\n",
        "    count+=1\n",
        "    if count >= maxit:\n",
        "      print(\"maxit\")\n",
        "      break\n",
        "    elif abs((f(y, A, xList[count])-value)/value) < tol:\n",
        "      print(\"convergence\")\n",
        "      break\n",
        "  return coef, objList, count\n",
        "\n",
        "def nt(f,fp,fpp,y,A,xinit,maxit,tol):\n",
        "  \"\"\"\n",
        "  f is the handle for the minimization objective\n",
        "  fp is the handle for the gradient\n",
        "  y is the input observation vector\n",
        "  A is the input matrix of covariates\n",
        "  x_init is the initalized value of the regression coefficient\n",
        "  ss is the constant step size\n",
        "  maxit and tol help you terminate the iterations\n",
        "  \"\"\"\n",
        "  # Add your code here\n",
        "  count = 0\n",
        "  xList = []\n",
        "  xList.append(xinit)\n",
        "  objList = []\n",
        "  stop = False\n",
        "  while not stop:\n",
        "    value = f(y, A, xList[count])\n",
        "    gradient = fp(y, A, xList[count])\n",
        "    objList.append(value)\n",
        "    update = np.subtract(xList[count], np.matmul(np.linalg.inv(fpp(y, A, xList[count])),gradient))\n",
        "    xList.append(update)\n",
        "    count+=1\n",
        "    if count >= maxit:\n",
        "      print(\"maxit\")\n",
        "      break\n",
        "    elif abs((f(y, A, xList[count])-value)/value) < tol:\n",
        "      print(\"convergence\")\n",
        "      break\n",
        "  return xList[count], xList, objList, count\n"
      ],
      "execution_count": 0,
      "outputs": []
    },
    {
      "cell_type": "markdown",
      "metadata": {
        "id": "-FtK3x9_73ui",
        "colab_type": "text"
      },
      "source": [
        "**Note**: we will implement the basic version of Newton’s method (not BFGS or L-BFGS). We will also\n",
        "use the basic method to implement the Newton step by inverting the Hessian using np.linalg.inv.\n",
        "There are more efficient ways to do this inversion, but for the purpose of this assignment, do **NOT** use\n",
        "other ways even if you know them. The convergence criterion is the same as that in PA1."
      ]
    },
    {
      "cell_type": "markdown",
      "metadata": {
        "id": "Z5M9CmXSYJle",
        "colab_type": "text"
      },
      "source": [
        "*Answer the questions and discuss your findings here*\n"
      ]
    },
    {
      "cell_type": "markdown",
      "metadata": {
        "id": "5XzI3c1Y8qyk",
        "colab_type": "text"
      },
      "source": [
        "**Step 2**: Code the objective function, the gradient, and the **Hessian** (you can use the Python lambda\n",
        "tool just like in PA1, or the regular function environment if you don’t like that). As a reminder, logistic\n",
        "regression has the following model\n",
        "$$y_i \\in \\{0,1\\}, \\quad p(y_i = 1) = \\text{sigmoid}(\\mathbf{a}_i^T \\mathbf{x}) =  \\frac{1}{1+e^{-\\mathbf{a}_i^T \\mathbf{x}}}, \\quad p(y_i=0) = 1 - p(y_i = 1).$$\n",
        "The likelihood can be written as \n",
        "$$p(y_i \\,|\\, \\mathbf{a}_i^T \\mathbf{x}) = p(y_i = 1 \\, | \\, \\mathbf{a}_i^T \\mathbf{x})^y_i \\cdot p(y_i = 0 \\, | \\, \\mathbf{a}_i^T \\mathbf{x})^{1-y_i} $$\n",
        "So we are solving the following optimization problem that minimizes the total negative log-likelihood\n",
        "minimize \\\\\n",
        "$$\\underset{\\mathbf{x}}{\\text{minimize}} \\quad \\quad  - \\sum_{i=1}^M (y_i \\log \\frac{1}{1+e^{-\\mathbf{a}_i^T \\mathbf{x}}} + (1-y_i) \\log \\frac{1}{1+e^{\\mathbf{a}_i^T \\mathbf{x}}}),$$\n",
        "or equivalently \n",
        "$$minimize_{\\mathbf{x}} \\sum_{i=1}^{M}\\log({1+e^{-(2y_i-1)a_i^T \\mathbf{x}}})$$\n",
        "where $y_i$ is the $i^{th}$ entry of the observation vector $\\mathbf{y}$ and $\\mathbf{a}_i$ is a column vector corresponding to the $i^{th}$ row of the matrix of covariates **A**.\n"
      ]
    },
    {
      "cell_type": "code",
      "metadata": {
        "id": "idDw8frDX8AV",
        "colab_type": "code",
        "colab": {}
      },
      "source": [
        "def objective(y, A, x):\n",
        "  return np.sum(np.log(1+np.exp(-1*(2*y-1)*np.dot(A,x))))\n",
        "\n",
        "def sigmoid(A, x):\n",
        "  s1 = 1+ np.exp(np.dot(-1*A,x))\n",
        "  s2 = 1/s1\n",
        "  return s2\n",
        "\n",
        "def gradient(y, A, x):\n",
        "  return np.sum((1/(1+np.exp(-((2*y)-1)*np.dot(A,x)))*(np.negative((2*y-1)*A))*np.exp(-((2*y)-1)*np.dot(A,x))), 0)[:, np.newaxis]\n",
        "                                                                                          \n",
        "def hessian(y, A, x):\n",
        "  print(\"hi\")\n",
        "  count = 0\n",
        "  hesh = 0\n",
        "  while count < len(A):\n",
        "    yi = y[count]\n",
        "    ai = A[count, :]\n",
        "    xi = np.matmul(np.transpose(ai), x)\n",
        "    term = (math.pow((2*yi-1),2)*np.exp((2*yi-1)*xi))\n",
        "    term2 = (1/(np.exp((2*yi-1)*xi)+1))\n",
        "    term = (term*term2)*(term2)*np.dot(ai[:,np.newaxis], np.transpose(ai[:,np.newaxis]))\n",
        "    count+=1\n",
        "    hesh = hesh + term\n",
        "  return hesh"
      ],
      "execution_count": 0,
      "outputs": []
    },
    {
      "cell_type": "markdown",
      "metadata": {
        "id": "-CtiLhndYLAK",
        "colab_type": "text"
      },
      "source": [
        "I struggled while trying to write the hessian without a loop. Is it possible? I decided to use a loop inorder to continue the project however I would like to see if there is a more optimal solution."
      ]
    },
    {
      "cell_type": "markdown",
      "metadata": {
        "id": "dcIk0dJi8wAc",
        "colab_type": "text"
      },
      "source": [
        "**Step 3**: Generate data. Set numpy’s random seed to 0. Then, generate the matrix of covariates\n",
        "**A** $\\in \\mathbb{R}^{M \\times N}$, which has i.i.d. entries distributed as N (0, 1). Use the same method, generate the\n",
        "regression coefficient vector $\\mathbf{x}$ $\\in$ $\\mathbb{R}^N$ as well. Then, generate the observation vector $\\mathbf{y} \\in \\{0, 1\\}^M$ using\n",
        "np.random.binomial()."
      ]
    },
    {
      "cell_type": "code",
      "metadata": {
        "id": "niRn-hOtX9GM",
        "colab_type": "code",
        "outputId": "249dfe4e-e3b8-4a03-a161-3b6a432f5201",
        "colab": {
          "base_uri": "https://localhost:8080/",
          "height": 1000
        }
      },
      "source": [
        "np.random.seed(0)\n",
        "M= 100\n",
        "N= 20\n",
        "\n",
        "A = np.random.normal(0, 1, (M,N))\n",
        "x = np.random.normal(0, 1, (N,1))\n",
        "y = np.random.binomial(1, sigmoid(A,x), (M,1))\n",
        "\n",
        "z = hessian(y, A, x)\n",
        "\n",
        "#print(sigmoid(A,x))\n",
        "\n",
        "#print(A)\n",
        "#print('---')\n",
        "#print(x)\n",
        "#print('---')\n",
        "#print(y)\n",
        "#print('---')\n",
        "\n",
        "#plt.hist(A)\n",
        "#plt.show()\n",
        "maxit = 10000\n",
        "tol = 1e-15"
      ],
      "execution_count": 0,
      "outputs": [
        {
          "output_type": "stream",
          "text": [
            "[[ 7.77459786e+00 -9.73289389e-01 -7.94142099e-01  3.96772430e-01\n",
            "  -1.44709493e+00  1.69919277e-01  5.00814685e-01  7.79331909e-01\n",
            "   2.25007891e+00  1.10504627e+00  1.39336278e+00 -4.31714911e-01\n",
            "  -1.05636223e-01  1.87208703e+00  1.06769270e+00  2.28213632e-01\n",
            "  -3.76466192e-01  1.19234627e-01 -1.21223443e+00  1.26521009e+00]\n",
            " [-9.73289389e-01  7.45585113e+00  1.36552730e+00  5.92187938e-01\n",
            "   8.58856640e-01 -5.29625989e-01 -1.27099643e-01 -1.05891652e+00\n",
            "   1.33261448e+00  5.35958868e-01  1.63371612e+00  2.54528178e-01\n",
            "   1.37853383e+00  3.79210283e-01 -3.29561680e-02 -5.49098865e-01\n",
            "  -7.98495753e-01  1.00672933e+00 -1.96919846e+00 -9.05234311e-01]\n",
            " [-7.94142099e-01  1.36552730e+00  5.90011880e+00 -1.36723467e+00\n",
            "   5.61600477e-01  8.92514812e-01  1.83431470e-01 -8.37975738e-01\n",
            "  -3.75074980e-01  4.07994807e-01  1.95444046e+00 -4.76976369e-01\n",
            "  -1.39355169e-01 -2.99777470e-01  6.03552326e-01 -1.69832145e-01\n",
            "   1.16713499e-01 -5.38506484e-01  2.18991356e-01  2.42508678e-01]\n",
            " [ 3.96772430e-01  5.92187938e-01 -1.36723467e+00  8.32179436e+00\n",
            "  -8.11838510e-01  5.97164543e-03 -1.21687698e+00  2.08644747e+00\n",
            "   1.15452731e+00 -2.38206790e-01  2.85645429e-02  6.55843917e-01\n",
            "   4.80236529e-01  1.35717173e-01 -3.51342719e-01  9.61858241e-01\n",
            "   7.61503816e-02 -5.43698167e-01 -2.75757565e+00 -1.06957026e+00]\n",
            " [-1.44709493e+00  8.58856640e-01  5.61600477e-01 -8.11838510e-01\n",
            "   6.86166049e+00 -2.73370788e-01  5.20669381e-01  1.07078821e+00\n",
            "  -1.80434928e+00 -8.46177957e-01 -3.32608223e-01  1.20166780e+00\n",
            "   1.56027057e-01 -1.39342204e+00  7.14674334e-01 -1.31162699e+00\n",
            "   8.60271783e-01  1.33218328e+00 -4.88714809e-01 -7.66253386e-01]\n",
            " [ 1.69919277e-01 -5.29625989e-01  8.92514812e-01  5.97164543e-03\n",
            "  -2.73370788e-01  7.22946779e+00 -1.24588048e-01 -1.19231093e-01\n",
            "   5.53310953e-01  9.26136770e-01  1.33697759e+00  7.55704831e-01\n",
            "  -2.12931163e-01  1.68724904e+00 -3.77524677e-01  5.95666910e-01\n",
            "   6.83162424e-01 -5.24667538e-01 -4.18555609e-01  1.13156821e+00]\n",
            " [ 5.00814685e-01 -1.27099643e-01  1.83431470e-01 -1.21687698e+00\n",
            "   5.20669381e-01 -1.24588048e-01  5.43545990e+00  3.57662696e-01\n",
            "  -3.11281228e-01 -6.23082651e-01 -3.82860409e-01 -2.21452458e+00\n",
            "   7.72437026e-01  2.28527149e+00  7.56759829e-01 -1.66626194e-01\n",
            "  -8.13339002e-01 -2.21071936e-02 -2.56035784e-01 -4.38305153e-01]\n",
            " [ 7.79331909e-01 -1.05891652e+00 -8.37975738e-01  2.08644747e+00\n",
            "   1.07078821e+00 -1.19231093e-01  3.57662696e-01  8.38316519e+00\n",
            "  -1.43377819e+00  3.19204849e-01 -1.72511582e+00 -4.16165476e-02\n",
            "   8.72181386e-01  1.17576274e+00  1.38007544e+00 -3.21266013e-01\n",
            "  -4.08307048e-02 -8.31601516e-01 -2.19050886e+00 -3.06662877e-01]\n",
            " [ 2.25007891e+00  1.33261448e+00 -3.75074980e-01  1.15452731e+00\n",
            "  -1.80434928e+00  5.53310953e-01 -3.11281228e-01 -1.43377819e+00\n",
            "   8.49917650e+00 -5.00313952e-01  2.23775787e+00  1.48744139e-02\n",
            "   4.89500855e-01  1.42198875e+00  9.31001562e-01  2.00139712e+00\n",
            "  -9.31640509e-01  8.49765380e-01 -1.61095884e-01 -9.75724661e-01]\n",
            " [ 1.10504627e+00  5.35958868e-01  4.07994807e-01 -2.38206790e-01\n",
            "  -8.46177957e-01  9.26136770e-01 -6.23082651e-01  3.19204849e-01\n",
            "  -5.00313952e-01  6.61356487e+00  1.28191370e-01  8.76479608e-01\n",
            "   8.96876977e-01  6.79086138e-01 -5.20443602e-01  4.57964977e-01\n",
            "  -1.89104490e-01  9.95610173e-01  9.37941051e-01  1.17779475e+00]\n",
            " [ 1.39336278e+00  1.63371612e+00  1.95444046e+00  2.85645429e-02\n",
            "  -3.32608223e-01  1.33697759e+00 -3.82860409e-01 -1.72511582e+00\n",
            "   2.23775787e+00  1.28191370e-01  7.46737730e+00 -6.17820410e-01\n",
            "  -1.71725849e+00  4.16911049e-01 -4.55969670e-01 -7.49148299e-01\n",
            "  -4.45488107e-02  5.50956525e-01 -4.50117429e-01  5.06517718e-01]\n",
            " [-4.31714911e-01  2.54528178e-01 -4.76976369e-01  6.55843917e-01\n",
            "   1.20166780e+00  7.55704831e-01 -2.21452458e+00 -4.16165476e-02\n",
            "   1.48744139e-02  8.76479608e-01 -6.17820410e-01  8.21476598e+00\n",
            "  -8.79021960e-01 -7.94692234e-01 -3.66839066e-02 -2.07001504e-01\n",
            "   8.10646587e-02  1.06882844e+00 -1.20661469e+00  9.24471495e-01]\n",
            " [-1.05636223e-01  1.37853383e+00 -1.39355169e-01  4.80236529e-01\n",
            "   1.56027057e-01 -2.12931163e-01  7.72437026e-01  8.72181386e-01\n",
            "   4.89500855e-01  8.96876977e-01 -1.71725849e+00 -8.79021960e-01\n",
            "   6.36514032e+00  1.06412893e+00  1.20124257e-01  1.07810229e+00\n",
            "  -1.32284227e+00 -3.64142537e-02 -5.52990550e-01 -7.85753562e-01]\n",
            " [ 1.87208703e+00  3.79210283e-01 -2.99777470e-01  1.35717173e-01\n",
            "  -1.39342204e+00  1.68724904e+00  2.28527149e+00  1.17576274e+00\n",
            "   1.42198875e+00  6.79086138e-01  4.16911049e-01 -7.94692234e-01\n",
            "   1.06412893e+00  7.74757515e+00 -2.84056676e-01  4.10995171e-01\n",
            "  -1.54518539e-01 -8.21144235e-01  1.86945859e-01 -1.15634963e+00]\n",
            " [ 1.06769270e+00 -3.29561680e-02  6.03552326e-01 -3.51342719e-01\n",
            "   7.14674334e-01 -3.77524677e-01  7.56759829e-01  1.38007544e+00\n",
            "   9.31001562e-01 -5.20443602e-01 -4.55969670e-01 -3.66839066e-02\n",
            "   1.20124257e-01 -2.84056676e-01  6.64175680e+00  2.69603859e-01\n",
            "  -5.45253313e-02  4.74740176e-01 -8.12313930e-02 -3.67623964e-01]\n",
            " [ 2.28213632e-01 -5.49098865e-01 -1.69832145e-01  9.61858241e-01\n",
            "  -1.31162699e+00  5.95666910e-01 -1.66626194e-01 -3.21266013e-01\n",
            "   2.00139712e+00  4.57964977e-01 -7.49148299e-01 -2.07001504e-01\n",
            "   1.07810229e+00  4.10995171e-01  2.69603859e-01  4.48496239e+00\n",
            "  -2.79587167e-01 -2.12940086e-01  5.59507439e-03  3.27381143e-01]\n",
            " [-3.76466192e-01 -7.98495753e-01  1.16713499e-01  7.61503816e-02\n",
            "   8.60271783e-01  6.83162424e-01 -8.13339002e-01 -4.08307048e-02\n",
            "  -9.31640509e-01 -1.89104490e-01 -4.45488107e-02  8.10646587e-02\n",
            "  -1.32284227e+00 -1.54518539e-01 -5.45253313e-02 -2.79587167e-01\n",
            "   4.55452931e+00 -1.26831297e+00  1.05311867e+00  7.51761787e-01]\n",
            " [ 1.19234627e-01  1.00672933e+00 -5.38506484e-01 -5.43698167e-01\n",
            "   1.33218328e+00 -5.24667538e-01 -2.21071936e-02 -8.31601516e-01\n",
            "   8.49765380e-01  9.95610173e-01  5.50956525e-01  1.06882844e+00\n",
            "  -3.64142537e-02 -8.21144235e-01  4.74740176e-01 -2.12940086e-01\n",
            "  -1.26831297e+00  6.91033406e+00  4.00836755e-01 -6.04125503e-01]\n",
            " [-1.21223443e+00 -1.96919846e+00  2.18991356e-01 -2.75757565e+00\n",
            "  -4.88714809e-01 -4.18555609e-01 -2.56035784e-01 -2.19050886e+00\n",
            "  -1.61095884e-01  9.37941051e-01 -4.50117429e-01 -1.20661469e+00\n",
            "  -5.52990550e-01  1.86945859e-01 -8.12313930e-02  5.59507439e-03\n",
            "   1.05311867e+00  4.00836755e-01  4.94671967e+00  6.11959447e-01]\n",
            " [ 1.26521009e+00 -9.05234311e-01  2.42508678e-01 -1.06957026e+00\n",
            "  -7.66253386e-01  1.13156821e+00 -4.38305153e-01 -3.06662877e-01\n",
            "  -9.75724661e-01  1.17779475e+00  5.06517718e-01  9.24471495e-01\n",
            "  -7.85753562e-01 -1.15634963e+00 -3.67623964e-01  3.27381143e-01\n",
            "   7.51761787e-01 -6.04125503e-01  6.11959447e-01  5.15584117e+00]]\n",
            "(20, 20)\n"
          ],
          "name": "stdout"
        }
      ]
    },
    {
      "cell_type": "markdown",
      "metadata": {
        "id": "qnShPAW-YL8s",
        "colab_type": "text"
      },
      "source": [
        "*Answer the questions and discuss your findings here*\n"
      ]
    },
    {
      "cell_type": "markdown",
      "metadata": {
        "id": "J5dZkzgGXEKo",
        "colab_type": "text"
      },
      "source": [
        "**Step 4**: Run your code. Apply both algorithms to the logistic regression objective. The algorithm\n",
        "parameters (maxit and tol) should be the same as that in PA1. Note that for logistic regression,\n",
        "it could be difficult to choose the ss_init parameter. For this assignment, we will set it to be 400\n",
        "divided by the square of the maximum singular value of the matrix **A**."
      ]
    },
    {
      "cell_type": "code",
      "metadata": {
        "id": "-o9F_2ciX9x4",
        "colab_type": "code",
        "outputId": "62a1b313-e58d-4b3d-c729-835857562d5d",
        "colab": {
          "base_uri": "https://localhost:8080/",
          "height": 1773
        }
      },
      "source": [
        "xIn = x\n",
        "ss_init = 400/math.pow((np.amax(A)), 2)\n",
        "xFin, xList, values, count= nt(objective,gradient, hessian,y,A,xIn,maxit,tol)\n",
        "print(xFin)\n",
        "plt.plot(range(0,count), values)\n",
        "\n",
        "\n",
        "plt.show()\n",
        "\n",
        "plt.plot(range(0,count+1), np.squeeze(xList))\n",
        "\n",
        "plt.show()\n",
        "\n",
        "xFin, xList, values, count= gd_ls_graph(objective,gradient,y,A,xIn, ss_init, maxit,tol)\n",
        "print(xFin)\n",
        "plt.plot(range(0,count), values)\n",
        "\n",
        "\n",
        "plt.show()\n",
        "\n",
        "plt.plot(range(0,count+1), np.squeeze(xList))\n",
        "\n",
        "plt.show()"
      ],
      "execution_count": 0,
      "outputs": [
        {
          "output_type": "stream",
          "text": [
            "convergence\n",
            "[[-2.60306755]\n",
            " [-1.88156986]\n",
            " [ 0.75199864]\n",
            " [-1.97358813]\n",
            " [-1.12304669]\n",
            " [-0.37503633]\n",
            " [-1.84714497]\n",
            " [-1.04104492]\n",
            " [ 1.20379471]\n",
            " [ 0.51733944]\n",
            " [-0.64446334]\n",
            " [-0.87598462]\n",
            " [ 1.74315912]\n",
            " [ 1.61690774]\n",
            " [ 0.7198775 ]\n",
            " [-2.4220529 ]\n",
            " [ 1.44830567]\n",
            " [ 1.09812547]\n",
            " [-4.08131491]\n",
            " [ 0.65243035]]\n"
          ],
          "name": "stdout"
        },
        {
          "output_type": "display_data",
          "data": {
            "image/png": "[encoded data removed]",
            "text/plain": [
              "<Figure size 432x288 with 1 Axes>"
            ]
          },
          "metadata": {
            "tags": []
          }
        },
        {
          "output_type": "display_data",
          "data": {
            "image/png": "[encoded data removed]",
            "text/plain": [
              "<Figure size 432x288 with 1 Axes>"
            ]
          },
          "metadata": {
            "tags": []
          }
        },
        {
          "output_type": "stream",
          "text": [
            "/usr/local/lib/python3.6/dist-packages/ipykernel_launcher.py:2: RuntimeWarning: overflow encountered in exp\n",
            "  \n"
          ],
          "name": "stderr"
        },
        {
          "output_type": "stream",
          "text": [
            "convergence\n",
            "[[-2.60306696]\n",
            " [-1.88156933]\n",
            " [ 0.75199838]\n",
            " [-1.97358773]\n",
            " [-1.12304647]\n",
            " [-0.37503629]\n",
            " [-1.84714437]\n",
            " [-1.04104453]\n",
            " [ 1.20379436]\n",
            " [ 0.51733946]\n",
            " [-0.64446299]\n",
            " [-0.87598433]\n",
            " [ 1.74315871]\n",
            " [ 1.61690719]\n",
            " [ 0.71987737]\n",
            " [-2.42205221]\n",
            " [ 1.4483052 ]\n",
            " [ 1.09812503]\n",
            " [-4.08131381]\n",
            " [ 0.65243004]]\n"
          ],
          "name": "stdout"
        },
        {
          "output_type": "display_data",
          "data": {
            "image/png": "[encoded data removed]",
            "text/plain": [
              "<Figure size 432x288 with 1 Axes>"
            ]
          },
          "metadata": {
            "tags": []
          }
        },
        {
          "output_type": "display_data",
          "data": {
            "image/png": "[encoded data removed]",
            "text/plain": [
              "<Figure size 432x288 with 1 Axes>"
            ]
          },
          "metadata": {
            "tags": []
          }
        }
      ]
    },
    {
      "cell_type": "markdown",
      "metadata": {
        "id": "RNEGf3DJYN3X",
        "colab_type": "text"
      },
      "source": [
        "*Answer the questions and discuss your findings here*\n"
      ]
    },
    {
      "cell_type": "markdown",
      "metadata": {
        "id": "GtsAlQSOXXCZ",
        "colab_type": "text"
      },
      "source": [
        "**1**) First, set M = 100 and N = 20. At convergence, print out the final cost, time taken, and number of\n",
        "iterations used by both algorithms. You should see that the final costs are more or less the same. Which\n",
        "algorithm is faster overall? Which algorithm converges in fewer iterations? Which algorithm has a longer\n",
        "per-iteration run time? Why?\n"
      ]
    },
    {
      "cell_type": "code",
      "metadata": {
        "id": "3p_xMTr7X-cw",
        "colab_type": "code",
        "outputId": "4f36325c-6203-46c9-f67f-328cceb82d9d",
        "colab": {
          "base_uri": "https://localhost:8080/",
          "height": 255
        }
      },
      "source": [
        "start = time.time()\n",
        "xFin, xList, values, count= nt(objective,gradient, hessian,y,A,xIn,maxit,tol)\n",
        "end = time.time()\n",
        "\n",
        "print(\"Newton's Method:\")\n",
        "print(\"Final Cost: \", end='')\n",
        "print(objective(y, A, xFin))\n",
        "print(\"Time taken: \", end='')\n",
        "print(end - start)\n",
        "print(\"Iterations: \", end='')\n",
        "print(count)\n",
        "print(\"Time Per Iteration: \", end='')\n",
        "print((end - start)/float(count))\n",
        "\n",
        "start = time.time()\n",
        "xFin, xList, values, count= gd_ls_graph(objective,gradient,y,A,xIn, ss_init, maxit,tol)\n",
        "end = time.time()\n",
        "\n",
        "print(\"Backtracking Line Search:\")\n",
        "print(\"Final Cost: \", end='')\n",
        "print(objective(y, A, xFin))\n",
        "print(\"Time taken: \", end='')\n",
        "print(end - start)\n",
        "print(\"Iterations: \", end='')\n",
        "print(count)\n",
        "print(\"Time Per Iteration: \", end='')\n",
        "print((end - start)/float(count))"
      ],
      "execution_count": 0,
      "outputs": [
        {
          "output_type": "stream",
          "text": [
            "convergence\n",
            "Newton's Method:\n",
            "Final Cost: 19.339725741187596\n",
            "Time taken: 0.038234710693359375\n",
            "Iterations: 8\n",
            "Time Per Iteration: 0.004779338836669922\n"
          ],
          "name": "stdout"
        },
        {
          "output_type": "stream",
          "text": [
            "/usr/local/lib/python3.6/dist-packages/ipykernel_launcher.py:2: RuntimeWarning: overflow encountered in exp\n",
            "  \n"
          ],
          "name": "stderr"
        },
        {
          "output_type": "stream",
          "text": [
            "convergence\n",
            "Backtracking Line Search:\n",
            "Final Cost: 19.33972574118803\n",
            "Time taken: 0.5746080875396729\n",
            "Iterations: 571\n",
            "Time Per Iteration: 0.0010063188923637003\n"
          ],
          "name": "stdout"
        }
      ]
    },
    {
      "cell_type": "markdown",
      "metadata": {
        "id": "nMUAThakYOpe",
        "colab_type": "text"
      },
      "source": [
        "Newton's method is much faster and converges in fewer iterations. This is because it's much more accurate in chosing an x by esimating like a polynomial instead of backtracking line search which estimates linearly with a constant step size. However, line search is much faster per iteration because calculating and then inverting a hessian is a costly procsess."
      ]
    },
    {
      "cell_type": "markdown",
      "metadata": {
        "id": "Wsi7kNK0XYdE",
        "colab_type": "text"
      },
      "source": [
        "**2**) Change the problem dimension to M = 10000 and N = 20. What happens now? How about in the\n",
        "case of N = 100? Which algorithm is faster overall? Why?\n"
      ]
    },
    {
      "cell_type": "code",
      "metadata": {
        "id": "8PK3XOxSX_Km",
        "colab_type": "code",
        "outputId": "3366cd11-42c3-4b6f-8936-da9a9084587e",
        "colab": {
          "base_uri": "https://localhost:8080/",
          "height": 527
        }
      },
      "source": [
        "np.random.seed(0)\n",
        "M= 10000\n",
        "N= 20\n",
        "\n",
        "A = np.random.normal(0, 1, (M,N))\n",
        "x = np.random.normal(0, 1, (N,1))\n",
        "y = np.random.binomial(1, sigmoid(A,x), (M,1))\n",
        "ss_init = 400/math.pow((np.amax(A)), 2)\n",
        "\n",
        "start = time.time()\n",
        "xFin, xList, values, count= nt(objective,gradient, hessian,y,A,x,maxit,tol)\n",
        "end = time.time()\n",
        "\n",
        "print(str(M) + \"x\" + str(N))\n",
        "print()\n",
        "print(\"Newton's Method:\")\n",
        "print(\"Final Cost: \", end='')\n",
        "print(objective(y, A, xFin))\n",
        "print(\"Time taken: \", end='')\n",
        "print(end - start)\n",
        "print(\"Iterations: \", end='')\n",
        "print(count)\n",
        "print(\"Time Per Iteration: \", end='')\n",
        "print((end - start)/float(count))\n",
        "\n",
        "start = time.time()\n",
        "xFin, xList, values, count= gd_ls_graph(objective,gradient,y,A,x, ss_init, maxit,tol)\n",
        "end = time.time()\n",
        "\n",
        "print(\"Backtracking Line Search:\")\n",
        "print(\"Final Cost: \", end='')\n",
        "print(objective(y, A, xFin))\n",
        "print(\"Time taken: \", end='')\n",
        "print(end - start)\n",
        "print(\"Iterations: \", end='')\n",
        "print(count)\n",
        "print(\"Time Per Iteration: \", end='')\n",
        "print((end - start)/float(count))\n",
        "\n",
        "M= 10000\n",
        "N= 100\n",
        "\n",
        "A = np.random.normal(0, 1, (M,N))\n",
        "x = np.random.normal(0, 1, (N,1))\n",
        "y = np.random.binomial(1, sigmoid(A,x), (M,1))\n",
        "ss_init = 400/math.pow((np.amax(A)), 2)\n",
        "\n",
        "start = time.time()\n",
        "xFin, xList, values, count= nt(objective,gradient, hessian,y,A,x,maxit,tol)\n",
        "end = time.time()\n",
        "\n",
        "print(str(M) + \"x\" + str(N))\n",
        "print()\n",
        "print(\"Newton's Method:\")\n",
        "print(\"Final Cost: \", end='')\n",
        "print(objective(y, A, xFin))\n",
        "print(\"Time taken: \", end='')\n",
        "print(end - start)\n",
        "print(\"Iterations: \", end='')\n",
        "print(count)\n",
        "print(\"Time Per Iteration: \", end='')\n",
        "print((end - start)/float(count))\n",
        "\n",
        "start = time.time()\n",
        "xFin, xList, values, count= gd_ls_graph(objective,gradient,y,A,x, ss_init, maxit,tol)\n",
        "end = time.time()\n",
        "\n",
        "print(\"Backtracking Line Search:\")\n",
        "print(\"Final Cost: \", end='')\n",
        "print(objective(y, A, xFin))\n",
        "print(\"Time taken: \", end='')\n",
        "print(end - start)\n",
        "print(\"Iterations: \", end='')\n",
        "print(count)\n",
        "print(\"Time Per Iteration: \", end='')\n",
        "print((end - start)/float(count))"
      ],
      "execution_count": 0,
      "outputs": [
        {
          "output_type": "stream",
          "text": [
            "convergence\n",
            "10000x20\n",
            "\n",
            "Newton's Method:\n",
            "Final Cost: 2658.3924267430752\n",
            "Time taken: 1.1309328079223633\n",
            "Iterations: 4\n",
            "Time Per Iteration: 0.2827332019805908\n"
          ],
          "name": "stdout"
        },
        {
          "output_type": "stream",
          "text": [
            "/usr/local/lib/python3.6/dist-packages/ipykernel_launcher.py:2: RuntimeWarning: overflow encountered in exp\n",
            "  \n"
          ],
          "name": "stderr"
        },
        {
          "output_type": "stream",
          "text": [
            "convergence\n",
            "Backtracking Line Search:\n",
            "Final Cost: 2658.3924267430766\n",
            "Time taken: 0.8339920043945312\n",
            "Iterations: 40\n",
            "Time Per Iteration: 0.02084980010986328\n",
            "convergence\n",
            "10000x100\n",
            "\n",
            "Newton's Method:\n",
            "Final Cost: 1305.0528771315132\n",
            "Time taken: 2.9312386512756348\n",
            "Iterations: 5\n",
            "Time Per Iteration: 0.586247730255127\n",
            "convergence\n",
            "Backtracking Line Search:\n",
            "Final Cost: 1305.052877131527\n",
            "Time taken: 5.505640506744385\n",
            "Iterations: 196\n",
            "Time Per Iteration: 0.028090002585430533\n"
          ],
          "name": "stdout"
        }
      ]
    },
    {
      "cell_type": "markdown",
      "metadata": {
        "id": "F54MOgNXYPiT",
        "colab_type": "text"
      },
      "source": [
        "When N = 20 backtracking line search was infact faster because it found a minima quickly using more iterations that took only .02 seconds each. Since there were only 20 values in the coeeficent matrix that needed to be optimized this linear estimation worked well.\n",
        "\n",
        "However, when N = 200 line search took almost twice as long because estimating linearly was certainly not an optimal way to estimate over so many coeeficients. Newton's Method converged in only 5 costly iterations. The time per iteration of line search does not vary much as N is changed however the number of iterations increases by 5 times which is proportional to the increase in n values from 20 to 100."
      ]
    },
    {
      "cell_type": "markdown",
      "metadata": {
        "id": "CfPdaRf_XZvc",
        "colab_type": "text"
      },
      "source": [
        "**3**) Load the given data file noisy1.npz. Select one algorithm to recover $\\mathbf{x}$ using the same approach as that in PA1. Which algorithm are you going to select? Why? Reshape it to a $40 \\times 40$ matrix. Visualize it as an image in grayscale using matplotlib. What do you think is the original image? "
      ]
    },
    {
      "cell_type": "code",
      "metadata": {
        "id": "xKHrsIJPYAAx",
        "colab_type": "code",
        "outputId": "1614fdcf-b185-47c0-93d2-ccafea73b4a9",
        "colab": {
          "base_uri": "https://localhost:8080/",
          "height": 34
        }
      },
      "source": [
        "from google.colab import drive \n",
        "drive.mount('drive')"
      ],
      "execution_count": 0,
      "outputs": [
        {
          "output_type": "stream",
          "text": [
            "Mounted at drive\n"
          ],
          "name": "stdout"
        }
      ]
    },
    {
      "cell_type": "code",
      "metadata": {
        "id": "NGRGjMvb7Eqh",
        "colab_type": "code",
        "outputId": "bf9bc3ed-6cc1-4a2e-eae2-0bf4504f72a0",
        "colab": {
          "base_uri": "https://localhost:8080/",
          "height": 371
        }
      },
      "source": [
        "with np.load('drive/My Drive/noisy1.npz') as data:\n",
        "    A = data['A']\n",
        "    y = data['y']\n",
        "    \n",
        "print(A.shape)\n",
        "y = y[:, np.newaxis]\n",
        "print(y.shape)\n",
        "xinit = np.ones(1600)[:, np.newaxis]\n",
        "print(xinit.shape)\n",
        "ss_init = 400/math.pow((np.amax(A)), 2)\n",
        "\n",
        "xFin, xList, values, count= gd_ls_graph(objective,gradient,y,A,xinit, ss_init, maxit,tol)\n",
        "\n",
        "img = xFin.reshape((40,40))\n",
        "\n",
        "import matplotlib.image as mpimg\n",
        "plt.gray()\n",
        "imgplot = plt.imshow(img)"
      ],
      "execution_count": 0,
      "outputs": [
        {
          "output_type": "stream",
          "text": [
            "(5000, 1600)\n",
            "(5000, 1)\n",
            "(1600, 1)\n"
          ],
          "name": "stdout"
        },
        {
          "output_type": "stream",
          "text": [
            "/usr/local/lib/python3.6/dist-packages/ipykernel_launcher.py:2: RuntimeWarning: overflow encountered in exp\n",
            "  \n"
          ],
          "name": "stderr"
        },
        {
          "output_type": "stream",
          "text": [
            "maxit\n"
          ],
          "name": "stdout"
        },
        {
          "output_type": "display_data",
          "data": {
            "image/png": "[encoded data removed]",
            "text/plain": [
              "<Figure size 432x288 with 1 Axes>"
            ]
          },
          "metadata": {
            "tags": []
          }
        }
      ]
    },
    {
      "cell_type": "markdown",
      "metadata": {
        "id": "61_K3o1vYQT5",
        "colab_type": "text"
      },
      "source": [
        "Whenever I ran this using Newton's Method I encountered a math error in my hessian function. However, ideally I would have used newton's method for this problem because it is quite faster when optimizing over more coefficients.\n",
        "\n",
        "It's definetly looks like mario jumping"
      ]
    },
    {
      "cell_type": "code",
      "metadata": {
        "id": "1BUlqeDFDjK0",
        "colab_type": "code",
        "outputId": "2be730da-4b46-4f44-dd06-1cbcd77e2c41",
        "colab": {
          "base_uri": "https://localhost:8080/",
          "height": 136
        }
      },
      "source": [
        "print(xFin)"
      ],
      "execution_count": 0,
      "outputs": [
        {
          "output_type": "stream",
          "text": [
            "[[0.99131599]\n",
            " [1.01882432]\n",
            " [0.65275198]\n",
            " ...\n",
            " [1.00250813]\n",
            " [1.587892  ]\n",
            " [1.91163388]]\n"
          ],
          "name": "stdout"
        }
      ]
    },
    {
      "cell_type": "code",
      "metadata": {
        "id": "fU0xpeX9UXr2",
        "colab_type": "code",
        "outputId": "f2bf0be5-5976-40ec-f4ea-d5c0212ec408",
        "colab": {
          "base_uri": "https://localhost:8080/",
          "height": 326
        }
      },
      "source": [
        "with np.load('drive/My Drive/noisy1.npz') as data:\n",
        "    A = data['A']\n",
        "    y = data['y']\n",
        "    \n",
        "print(A.shape)\n",
        "y = y[:, np.newaxis]\n",
        "print(y.shape)\n",
        "xinit = np.random.normal(0, 1, (1600,1))\n",
        "xFin2, xList, values, count= nt(objective,gradient, hessian,y,A,xinit,5,tol)"
      ],
      "execution_count": 0,
      "outputs": [
        {
          "output_type": "stream",
          "text": [
            "(5000, 1600)\n",
            "(5000, 1)\n",
            "hi\n"
          ],
          "name": "stdout"
        },
        {
          "output_type": "stream",
          "text": [
            "/usr/local/lib/python3.6/dist-packages/ipykernel_launcher.py:2: RuntimeWarning: overflow encountered in exp\n",
            "  \n",
            "/usr/local/lib/python3.6/dist-packages/ipykernel_launcher.py:10: RuntimeWarning: overflow encountered in exp\n",
            "  # Remove the CWD from sys.path while we load stuff.\n",
            "/usr/local/lib/python3.6/dist-packages/ipykernel_launcher.py:10: RuntimeWarning: invalid value encountered in multiply\n",
            "  # Remove the CWD from sys.path while we load stuff.\n",
            "/usr/local/lib/python3.6/dist-packages/ipykernel_launcher.py:20: RuntimeWarning: overflow encountered in exp\n",
            "/usr/local/lib/python3.6/dist-packages/ipykernel_launcher.py:21: RuntimeWarning: overflow encountered in exp\n",
            "/usr/local/lib/python3.6/dist-packages/ipykernel_launcher.py:22: RuntimeWarning: invalid value encountered in multiply\n"
          ],
          "name": "stderr"
        },
        {
          "output_type": "stream",
          "text": [
            "hi\n",
            "hi\n",
            "hi\n",
            "hi\n",
            "maxit\n"
          ],
          "name": "stdout"
        }
      ]
    },
    {
      "cell_type": "code",
      "metadata": {
        "id": "tHMYXZpouIR2",
        "colab_type": "code",
        "outputId": "b24dec47-4199-4981-be0e-07fa561014c8",
        "colab": {
          "base_uri": "https://localhost:8080/",
          "height": 612
        }
      },
      "source": [
        "print(xFin.reshape((40,40)))\n",
        "img2 = xFin2.reshape((40,40))\n",
        "\n",
        "plt.gray()\n",
        "imgplot = plt.imshow(img2)"
      ],
      "execution_count": 0,
      "outputs": [
        {
          "output_type": "stream",
          "text": [
            "[[0.99131599 1.01882432 0.65275198 ... 0.58297399 1.17578139 0.9784551 ]\n",
            " [0.11988669 1.50003963 1.05399734 ... 1.04063565 0.44109568 1.03428705]\n",
            " [1.32113868 0.68841652 0.60173293 ... 0.68666674 0.83430343 1.03077881]\n",
            " ...\n",
            " [0.93577977 1.37189658 1.14567659 ... 0.62803547 0.58229124 0.5623676 ]\n",
            " [1.31493621 0.52159876 0.98574217 ... 0.85781399 1.13874355 1.69154473]\n",
            " [0.884514   0.96719049 0.67674959 ... 1.00250813 1.587892   1.91163388]]\n"
          ],
          "name": "stdout"
        },
        {
          "output_type": "stream",
          "text": [
            "/usr/local/lib/python3.6/dist-packages/matplotlib/image.py:395: UserWarning: Warning: converting a masked element to nan.\n",
            "  dv = (np.float64(self.norm.vmax) -\n",
            "/usr/local/lib/python3.6/dist-packages/matplotlib/image.py:396: UserWarning: Warning: converting a masked element to nan.\n",
            "  np.float64(self.norm.vmin))\n",
            "/usr/local/lib/python3.6/dist-packages/matplotlib/image.py:403: UserWarning: Warning: converting a masked element to nan.\n",
            "  a_min = np.float64(newmin)\n",
            "/usr/local/lib/python3.6/dist-packages/matplotlib/image.py:408: UserWarning: Warning: converting a masked element to nan.\n",
            "  a_max = np.float64(newmax)\n",
            "/usr/local/lib/python3.6/dist-packages/matplotlib/colors.py:918: UserWarning: Warning: converting a masked element to nan.\n",
            "  dtype = np.min_scalar_type(value)\n",
            "/usr/local/lib/python3.6/dist-packages/numpy/ma/core.py:713: UserWarning: Warning: converting a masked element to nan.\n",
            "  data = np.array(a, copy=False, subok=subok)\n"
          ],
          "name": "stderr"
        },
        {
          "output_type": "display_data",
          "data": {
            "image/png": "[encoded data removed]",
            "text/plain": [
              "<Figure size 432x288 with 1 Axes>"
            ]
          },
          "metadata": {
            "tags": []
          }
        }
      ]
    },
    {
      "cell_type": "markdown",
      "metadata": {
        "id": "AZjG-RWk5BGd",
        "colab_type": "text"
      },
      "source": [
        "#Add Colab link here: # https://colab.research.google.com/drive/1Bh9buvJ8V3JqhrGNmc3_nHCj3MRDJjB4"
      ]
    }
  ]
}