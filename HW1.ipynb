{
  "nbformat": 4,
  "nbformat_minor": 0,
  "metadata": {
    "colab": {
      "name": "HW1",
      "provenance": [],
      "collapsed_sections": [],
      "toc_visible": true
    },
    "kernelspec": {
      "name": "python3",
      "display_name": "Python 3"
    },
    "accelerator": "GPU"
  },
  "cells": [
    {
      "cell_type": "markdown",
      "metadata": {
        "id": "ZAaxEB7Qc0aD",
        "colab_type": "text"
      },
      "source": [
        "#**Instructions:**#\n",
        "*Follow the instructions below to code, generate results (numbers, tables, figures), and\n",
        "discuss your findings. Summarize your observations\n",
        "and show results to support them. Submit 1) **code** and 2) **discussions and results** as required by each\n",
        "assignment, using this iPython notebook template. You must\n",
        "submit a PDF including them\n",
        "**and** a link to your Colab page at the bottom of this template to receive\n",
        "full credit. You are encouraged to collaborate and discuss the assignment, but\n",
        "you **HAVE** to write your submission by yourself. Identical submissions will be regarded as plagiarism.*   \\\\\n",
        "Please us the following tutorials- [GoogleColab: Setup](https://www.geeksforgeeks.org/how-to-use-google-colab/) and [Google Colab: Getting Started](https://colab.research.google.com/notebooks/welcome.ipynb) to gain familiarity with the Google Colab environment. \\\\\n",
        "Here is another excellent [post](https://towardsdatascience.com/optimizing-jupyter-notebook-tips-tricks-and-nbextensions-26d75d502663) for getting familiar with Jupyter Notebooks. \\\\\n",
        "**Note**: For submitting your solutions, do the following:  \\\\\n",
        "**1.** Add link to this colab notebook in the last cell of this notebook.  \n",
        "**2.** **File -> Save -> Print -> Save as PDF** and upload the pdf to gradescope.\n"
      ]
    },
    {
      "cell_type": "markdown",
      "metadata": {
        "id": "D3q-MyXme3bI",
        "colab_type": "text"
      },
      "source": [
        "**Poisson Regression** \\\\\n",
        "To help you better understand how to select stepsizes for basic gradient descent\n",
        "algorithms, we will look at the case of Poisson Regression. As discussed in class, you cannot calculate a\n",
        "stepsize using Lipschitz continuity that gurantees convergence in this case. \\\\\n",
        "**Step 1**: Generate data. Set numpy’s random seed to 0. Then, let M = 200 and N = 5. Generate the\n",
        "matrix of covariates $A \\in R^{M×N}$\n",
        ", which has i.i.d. entries distributed as N (0, 0.25). Note: you can play\n",
        "around with different choices of these parameters, but the results have to be generated using these. Use the\n",
        "same method, generate the regression coefficient vector $x \\in R^N$ as well. Then, generate the observation\n",
        "vector $y \\in N^M$ as \\\\\n",
        ">$y \\sim Pois(e^{Ax})$  \n",
        "\n",
        "\n",
        "You can use np.random.normal() and np.random.poisson(). \n",
        "**Note:** use vector forms in your code. Do NOT write loops except for the outer iterations."
      ]
    },
    {
      "cell_type": "code",
      "metadata": {
        "id": "Ju3W1ZZ1zEza",
        "colab_type": "code",
        "colab": {}
      },
      "source": [
        "\n",
        "import timeit\n",
        "import numpy as np\n",
        "from scipy import special\n",
        "import matplotlib.pyplot as plt\n",
        "import math"
      ],
      "execution_count": 0,
      "outputs": []
    },
    {
      "cell_type": "code",
      "metadata": {
        "id": "-QVB2jBFtwmO",
        "colab_type": "code",
        "outputId": "c65f1b13-5fb5-4198-99fd-a1e9aa852236",
        "colab": {
          "base_uri": "https://localhost:8080/",
          "height": 269
        }
      },
      "source": [
        "np.random.seed(0)\n",
        "M= 200\n",
        "N= 5\n",
        "\n",
        "A = np.random.normal(0, .25, (M,N))\n",
        "x = np.random.normal(0, .25, (N,1))\n",
        "rate = np.dot(A, x)\n",
        "y = np.random.poisson(np.exp(rate))\n",
        "#print(A)\n",
        "#print('--')\n",
        "#print(y)\n",
        "#print('--')\n",
        "#print(x.shape)\n",
        "#print(A.shape)\n",
        "#print(y.shape)\n",
        "#print('--')\n",
        "\n",
        "plt.hist(A)\n",
        "plt.show()"
      ],
      "execution_count": 0,
      "outputs": [
        {
          "output_type": "display_data",
          "data": {
            "image/png": "[encoded data removed]",
            "text/plain": [
              "<Figure size 432x288 with 1 Axes>"
            ]
          },
          "metadata": {
            "tags": []
          }
        }
      ]
    },
    {
      "cell_type": "markdown",
      "metadata": {
        "id": "Y74M7ltr230h",
        "colab_type": "text"
      },
      "source": [
        "*Answer the questions and discuss your findings here*\n",
        "\n",
        "\n"
      ]
    },
    {
      "cell_type": "markdown",
      "metadata": {
        "id": "EvVnMxkl8ac6",
        "colab_type": "text"
      },
      "source": [
        "**Step 2**: Code the gradient descent algorithms. Write two functions, one for constant stepsize and one\n",
        "for backtracking line search. Use the format below:"
      ]
    },
    {
      "cell_type": "code",
      "metadata": {
        "id": "MezkGkFO8jcl",
        "colab_type": "code",
        "colab": {}
      },
      "source": [
        "def gd_const(f,fp,y,A,xinit,ss,maxit,tol):\n",
        "  \"\"\"\n",
        "  f is the handle for the minimization objective\n",
        "  fp is the handle for the gradient\n",
        "  y is the input observation vector\n",
        "  A is the input matrix of covariates\n",
        "  x_init is the initalized value of the regression coefficient\n",
        "  ss is the constant step size\n",
        "  maxit and tol help you terminate the iterations\n",
        "  \"\"\"\n",
        "  # Add your code here\n",
        "  count = 0\n",
        "  xList = []\n",
        "  xList.append(xinit)\n",
        "  stop = False\n",
        "  while not stop:\n",
        "    value = f(y, A, xList[count])\n",
        "    gradient = fp(y, A, xList[count])\n",
        "    update = np.subtract(xList[count], (ss*gradient))\n",
        "    xList.append(update)\n",
        "    count+=1\n",
        "    #print(xList[count])\n",
        "    #print(value)\n",
        "    #print(f(y, A, xList[count]))\n",
        "    if count >= maxit:\n",
        "      print(\"maxit\")\n",
        "      break\n",
        "    elif abs((f(y, A, xList[count])-value)/value) < tol:\n",
        "      print(\"convergence\")\n",
        "      break\n",
        "  return xList[count], count\n"
      ],
      "execution_count": 0,
      "outputs": []
    },
    {
      "cell_type": "code",
      "metadata": {
        "id": "tv5iPYAiwaAq",
        "colab_type": "code",
        "colab": {}
      },
      "source": [
        "def gd_ls(f,fp,y,A,xinit,ss_init,maxit,tol):\n",
        "  \"\"\"\n",
        "  Note that ss changes to ss_init\n",
        "  ss_init is the starting stepsize for backtracking\n",
        "  \"\"\"\n",
        "  # Add your code here\n",
        "  count = 0\n",
        "  xList = []\n",
        "  xList.append(xinit)\n",
        "  stop = False\n",
        "  a = 1\n",
        "  b = .5\n",
        "  while not stop:\n",
        "    value = f(y, A, xList[count])\n",
        "    gradient = fp(y, A, xList[count])\n",
        "    t = ss_init\n",
        "    while f(y, A, np.subtract(xList[count], (t*gradient))) > value - a/2*t*math.pow(np.linalg.norm(gradient, 2),2):\n",
        "      t = b*t\n",
        "    update = np.subtract(xList[count], (t*gradient))\n",
        "    xList.append(update)\n",
        "    count+=1\n",
        "    #print(xList[count])\n",
        "    #print(value)\n",
        "    #print(f(y, A, xList[count]))\n",
        "    if count >= maxit:\n",
        "      print(\"maxit\")\n",
        "      break\n",
        "    elif abs((f(y, A, xList[count])-value)/value) < tol:\n",
        "      print(\"convergence\")\n",
        "      break\n",
        "  return xList[count], count"
      ],
      "execution_count": 0,
      "outputs": []
    },
    {
      "cell_type": "markdown",
      "metadata": {
        "id": "H_DKxkbw25_i",
        "colab_type": "text"
      },
      "source": [
        "*Answer the questions and discuss your findings here*\n"
      ]
    },
    {
      "cell_type": "markdown",
      "metadata": {
        "id": "76yBueo6-zmB",
        "colab_type": "text"
      },
      "source": [
        "Implement both algorithms on your own. Add additional output elements yourself (detailed below).\n",
        "Determine convergence by \n",
        "1.   if maxit is exceeded, stop.\n",
        "2.   check the relative change in the objective\n",
        "function (absolute change divided by the objective) between consecutive iterations; if the change is less than tol, stop.\n",
        "\n",
        "\n"
      ]
    },
    {
      "cell_type": "markdown",
      "metadata": {
        "id": "tkCHLOMxAL_s",
        "colab_type": "text"
      },
      "source": [
        "**Step 3**: Code the objective function and the gradient function using the Python lambda tool. As a\n",
        "sanity check, make sure your input to both is y, A, x. Then, set some parameters: pick a value for the\n",
        "constant stepsize ss. Use 1.0 for ss_init. Set maxit to 10000 and tol to 1e-15.\n"
      ]
    },
    {
      "cell_type": "code",
      "metadata": {
        "id": "JMY19mPu_rmP",
        "colab_type": "code",
        "outputId": "6880b5b5-14c4-4b05-841d-a884c073d204",
        "colab": {
          "base_uri": "https://localhost:8080/",
          "height": 34
        }
      },
      "source": [
        "\"\"\"\n",
        "Add your code here\n",
        "\"\"\"\n",
        "def objective(y, A, x):\n",
        "  rate = np.dot(A, x)\n",
        "  lam = np.exp(rate)\n",
        "  #print(lam)\n",
        "  s1 = np.log(np.power(lam,y))\n",
        "  s2 = np.negative(lam)\n",
        "  s3 = np.log(special.factorial(y))\n",
        "  s4 = np.add(s1, s2)\n",
        "  s5 = np.subtract(s4, s3)\n",
        "  return np.negative(np.sum(s5))\n",
        "def gradient(y, A, x):\n",
        "  #A^t(y-e^Ax)\n",
        "  s1 = y - np.exp(np.dot(A,x))\n",
        "  s2 = np.dot(np.transpose(A), s1)\n",
        "  print(s2.shape)\n",
        "  return np.negative(s2)\n",
        "gradient(y, A, x)\n",
        "ss_init = 1\n",
        "maxit = 10000\n",
        "tol = 1e-15\n"
      ],
      "execution_count": 0,
      "outputs": [
        {
          "output_type": "stream",
          "text": [
            "(5, 1)\n"
          ],
          "name": "stdout"
        }
      ]
    },
    {
      "cell_type": "markdown",
      "metadata": {
        "id": "8BP8VFOy3PnX",
        "colab_type": "text"
      },
      "source": [
        "I think there is an issue here somewhere causing overflows and nan values"
      ]
    },
    {
      "cell_type": "markdown",
      "metadata": {
        "id": "kB5jro7s_JAH",
        "colab_type": "text"
      },
      "source": [
        "**Step 4**: Initialize $x$ to an all-zero vector and run both codes; use the Python timeit tool to time your\n",
        "code. Check the solution (print out both the estimated regression coefficient and total run time). You’ll\n",
        "see that the line search method almost always works, but not the constant stepsize method.\n",
        "\n"
      ]
    },
    {
      "cell_type": "code",
      "metadata": {
        "id": "EJol9ExFBN2W",
        "colab_type": "code",
        "outputId": "74d127a2-53d8-494b-9e6f-d7acb078ef2d",
        "colab": {
          "base_uri": "https://localhost:8080/",
          "height": 340
        }
      },
      "source": [
        "SETUP_CODE = ''' \n",
        "from __main__ import gd_const\n",
        "from __main__ import gd_ls\n",
        "from __main__ import gradient \n",
        "from __main__ import objective \n",
        "import timeit\n",
        "import numpy as np\n",
        "import scipy\n",
        "import matplotlib.pyplot as plt\n",
        "import math\n",
        "\n",
        "np.random.seed(0)\n",
        "M= 200\n",
        "N= 5\n",
        "\n",
        "A = np.random.normal(0, .25, (M,N))\n",
        "x = np.random.normal(0, .25, (N,1))\n",
        "rate = np.dot(A, x)\n",
        "y = np.random.poisson(np.exp(rate))\n",
        "\n",
        "xinit = np.zeros_like(x)\n",
        "ss_init = 1\n",
        "maxit = 10000\n",
        "tol = 1e-15\n",
        "'''\n",
        "  \n",
        "TEST_CODE_CON = ''' \n",
        "gd_const(objective,gradient,y,A,xinit,ss_init,maxit,tol)\n",
        "'''\n",
        "\n",
        "TEST_CODE_B = ''' \n",
        "gd_ls(objective,gradient,y,A,xinit,ss_init,maxit,tol)\n",
        "'''\n",
        "\n",
        "timesConstant = timeit.repeat(setup = SETUP_CODE, \n",
        "                          stmt = TEST_CODE_CON,\n",
        "                          number = 1) \n",
        "timesBacktrack = timeit.repeat(setup = SETUP_CODE, \n",
        "                          stmt = TEST_CODE_B,\n",
        "                          number = 1) \n",
        "\n",
        "print('Constant GD Time: {}'.format(min(timesConstant))) \n",
        "print('Backtracking Line Search Time: {}'.format(min(timesBacktrack)))\n",
        "#xFin, count = gd_const(objective,gradient,y,A,xinit,ss_init,maxit,tol)\n",
        "#xFin2, count2 = gd_ls(objective,gradient,y,A,xinit,ss_init,maxit,tol)"
      ],
      "execution_count": 0,
      "outputs": [
        {
          "output_type": "stream",
          "text": [
            "/usr/local/lib/python3.6/dist-packages/ipykernel_launcher.py:6: RuntimeWarning: overflow encountered in exp\n",
            "  \n",
            "/usr/local/lib/python3.6/dist-packages/ipykernel_launcher.py:8: RuntimeWarning: overflow encountered in power\n",
            "  \n",
            "/usr/local/lib/python3.6/dist-packages/ipykernel_launcher.py:8: RuntimeWarning: divide by zero encountered in log\n",
            "  \n",
            "/usr/local/lib/python3.6/dist-packages/ipykernel_launcher.py:11: RuntimeWarning: invalid value encountered in add\n",
            "  # This is added back by InteractiveShellApp.init_path()\n",
            "/usr/local/lib/python3.6/dist-packages/numpy/core/fromnumeric.py:86: RuntimeWarning: invalid value encountered in reduce\n",
            "  return ufunc.reduce(obj, axis, dtype, out, **passkwargs)\n",
            "/usr/local/lib/python3.6/dist-packages/ipykernel_launcher.py:17: RuntimeWarning: overflow encountered in exp\n"
          ],
          "name": "stderr"
        },
        {
          "output_type": "stream",
          "text": [
            "maxit\n",
            "maxit\n",
            "maxit\n",
            "convergence\n",
            "convergence\n",
            "convergence\n",
            "Constant GD Time: 0.9526035680000859\n",
            "Backtracking Line Search Time: 0.009046957999998995\n"
          ],
          "name": "stdout"
        }
      ]
    },
    {
      "cell_type": "markdown",
      "metadata": {
        "id": "uURa6XHTw6rn",
        "colab_type": "text"
      },
      "source": [
        "**a**.   What is a (rough) requirement for ss so that the constant stepsize method can converge to the (right) solution? Note that due to randomness in data generation, you will not be able to get the ground-truth $x$\n",
        "back.\n"
      ]
    },
    {
      "cell_type": "code",
      "metadata": {
        "id": "uyNDaEcnxAki",
        "colab_type": "code",
        "outputId": "71c96e88-4157-477b-99b6-a8819762cecf",
        "colab": {
          "base_uri": "https://localhost:8080/",
          "height": 34
        }
      },
      "source": [
        "ss_init = .001\n",
        "xinit = np.zeros_like(x)\n",
        "xFin, count = gd_const(objective,gradient,y,A,xinit,ss_init,maxit,tol)"
      ],
      "execution_count": 0,
      "outputs": [
        {
          "output_type": "stream",
          "text": [
            "convergence\n"
          ],
          "name": "stdout"
        }
      ]
    },
    {
      "cell_type": "markdown",
      "metadata": {
        "id": "DUu2_7Su3Xqf",
        "colab_type": "text"
      },
      "source": [
        "\n",
        "\n",
        "\n",
        "I found that gd with a constant step-size would converge with a stepsize less than or equal to .124. However, runtime certainly seemed to increase as I decreased the stepsize value."
      ]
    },
    {
      "cell_type": "markdown",
      "metadata": {
        "id": "v0pcUmCHxBo3",
        "colab_type": "text"
      },
      "source": [
        "**b**.  Use the same random seed as above (0) to generate A, but use a different random seed to generate x and subsequently y. Try different random seeds. Does the stepsize requirement change? Can you find a stepsize that works for some random seeds but fails for others?\n"
      ]
    },
    {
      "cell_type": "code",
      "metadata": {
        "id": "maPLCxjbyXTN",
        "colab_type": "code",
        "outputId": "322ff981-7d23-4b05-e8ca-54641f9ffda9",
        "colab": {
          "base_uri": "https://localhost:8080/",
          "height": 221
        }
      },
      "source": [
        "np.random.seed(50)\n",
        "M= 200\n",
        "N= 5\n",
        "\n",
        "A = np.random.normal(0, .25, (M,N))\n",
        "\n",
        "np.random.seed(10)\n",
        "x = np.random.normal(0, .25, (N,1))\n",
        "rate = np.dot(A, x)\n",
        "\n",
        "np.random.seed(3)\n",
        "y = np.random.poisson(np.exp(rate))\n",
        "\n",
        "ss_init = .13\n",
        "xFin, count = gd_const(objective,gradient,y,A,xinit,ss_init,maxit,tol)"
      ],
      "execution_count": 0,
      "outputs": [
        {
          "output_type": "stream",
          "text": [
            "/usr/local/lib/python3.6/dist-packages/ipykernel_launcher.py:6: RuntimeWarning: overflow encountered in exp\n",
            "  \n",
            "/usr/local/lib/python3.6/dist-packages/ipykernel_launcher.py:8: RuntimeWarning: overflow encountered in power\n",
            "  \n",
            "/usr/local/lib/python3.6/dist-packages/ipykernel_launcher.py:8: RuntimeWarning: divide by zero encountered in log\n",
            "  \n",
            "/usr/local/lib/python3.6/dist-packages/ipykernel_launcher.py:11: RuntimeWarning: invalid value encountered in add\n",
            "  # This is added back by InteractiveShellApp.init_path()\n",
            "/usr/local/lib/python3.6/dist-packages/numpy/core/fromnumeric.py:86: RuntimeWarning: invalid value encountered in reduce\n",
            "  return ufunc.reduce(obj, axis, dtype, out, **passkwargs)\n",
            "/usr/local/lib/python3.6/dist-packages/ipykernel_launcher.py:17: RuntimeWarning: overflow encountered in exp\n"
          ],
          "name": "stderr"
        },
        {
          "output_type": "stream",
          "text": [
            "maxit\n"
          ],
          "name": "stdout"
        }
      ]
    },
    {
      "cell_type": "markdown",
      "metadata": {
        "id": "-zD2ZxjT36EM",
        "colab_type": "text"
      },
      "source": [
        "Using random seed 0,1,3 for A, x, and y respectivly I found very little difference between stepsize requirements. However using 0, 10, 3 I found that stepsize .13 actually worked quite well. Then changing the seeds to 50,10,3 again maxed out and did not work with step-size .13."
      ]
    },
    {
      "cell_type": "markdown",
      "metadata": {
        "id": "czVA475-xDil",
        "colab_type": "text"
      },
      "source": [
        "**c**.   When the constant stepsize method diverges, show two plots, one for objective vs. iteration, the other for one regression coefficient vs. iteration. Discuss your findings. If you are not familiar with plotting, check out the [matplotlib](https://matplotlib.org/tutorials/index.html)\n",
        "documentations.\n"
      ]
    },
    {
      "cell_type": "code",
      "metadata": {
        "id": "hVQuQRB3xFrR",
        "colab_type": "code",
        "outputId": "9604fc5a-20ac-4328-c242-c97fa85cb6e0",
        "colab": {
          "base_uri": "https://localhost:8080/",
          "height": 1000
        }
      },
      "source": [
        "def gd_const_graph(f,fp,y,A,xinit,ss,maxit,tol):\n",
        "  \"\"\"\n",
        "  f is the handle for the minimization objective\n",
        "  fp is the handle for the gradient\n",
        "  y is the input observation vector\n",
        "  A is the input matrix of covariates\n",
        "  x_init is the initalized value of the regression coefficient\n",
        "  ss is the constant step size\n",
        "  maxit and tol help you terminate the iterations\n",
        "  \"\"\"\n",
        "  # Add your code here\n",
        "  count = 0\n",
        "  xList = []\n",
        "  xList.append(xinit)\n",
        "  objList = []\n",
        "  coef = []\n",
        "  stop = False\n",
        "  while not stop:\n",
        "    value = f(y, A, xList[count])\n",
        "    gradient = fp(y, A, xList[count])\n",
        "    objList.append(value)\n",
        "    update = np.subtract(xList[count], (ss*gradient))\n",
        "    xList.append(update)\n",
        "    coef.append(update[0])\n",
        "    count+=1\n",
        "    if count >= maxit:\n",
        "      print(\"maxit\")\n",
        "      break\n",
        "    elif abs((f(y, A, xList[count])-value)/value) < tol:\n",
        "      print(\"convergence\")\n",
        "      break\n",
        "  return coef, objList, count\n",
        "\n",
        "np.random.seed(0)\n",
        "M= 200\n",
        "N= 5\n",
        "\n",
        "A = np.random.normal(0, .25, (M,N))\n",
        "x = np.random.normal(0, .25, (N,1))\n",
        "rate = np.dot(A, x)\n",
        "y = np.random.poisson(np.exp(rate))\n",
        "xinit = np.zeros_like(x)\n",
        "ss_init = .13\n",
        "xFin, values, count = gd_const_graph(objective,gradient,y,A,xinit,ss_init,20,tol)\n",
        "\n",
        "plt.plot(range(0,count), values)\n",
        "\n",
        "\n",
        "plt.show()\n",
        "\n",
        "plt.plot(range(0,count), np.squeeze(xFin))\n",
        "\n",
        "plt.show()\n",
        "\n",
        "np.random.seed(0)\n",
        "M= 200\n",
        "N= 5\n",
        "\n",
        "A = np.random.normal(0, .25, (M,N))\n",
        "x = np.random.normal(0, .25, (N,1))\n",
        "rate = np.dot(A, x)\n",
        "y = np.random.poisson(np.exp(rate))\n",
        "xinit = np.zeros_like(x)\n",
        "ss_init = .12\n",
        "xFin, values, count = gd_const_graph(objective,gradient,y,A,xinit,ss_init,1000,tol)\n",
        "\n",
        "plt.plot(range(0,count), values)\n",
        "\n",
        "\n",
        "plt.show()\n",
        "\n",
        "plt.plot(range(0,count), np.squeeze(xFin))\n",
        "\n",
        "plt.show()"
      ],
      "execution_count": 0,
      "outputs": [
        {
          "output_type": "stream",
          "text": [
            "maxit\n"
          ],
          "name": "stdout"
        },
        {
          "output_type": "display_data",
          "data": {
            "image/png": "[encoded data removed]",
            "text/plain": [
              "<Figure size 432x288 with 1 Axes>"
            ]
          },
          "metadata": {
            "tags": []
          }
        },
        {
          "output_type": "display_data",
          "data": {
            "image/png": "[encoded data removed]",
            "text/plain": [
              "<Figure size 432x288 with 1 Axes>"
            ]
          },
          "metadata": {
            "tags": []
          }
        },
        {
          "output_type": "stream",
          "text": [
            "convergence\n"
          ],
          "name": "stdout"
        },
        {
          "output_type": "display_data",
          "data": {
            "image/png": "[encoded data removed]",
            "text/plain": [
              "<Figure size 432x288 with 1 Axes>"
            ]
          },
          "metadata": {
            "tags": []
          }
        },
        {
          "output_type": "display_data",
          "data": {
            "image/png": "[encoded data removed]",
            "text/plain": [
              "<Figure size 432x288 with 1 Axes>"
            ]
          },
          "metadata": {
            "tags": []
          }
        }
      ]
    },
    {
      "cell_type": "markdown",
      "metadata": {
        "id": "i1bZ2Xs-4PHd",
        "colab_type": "text"
      },
      "source": [
        "Having never used matplot I struggled to get the axes of the graph to make sense. However, there is a clear difference between the graph as the decent is converging and the graph of a diverging decent. The coefficients of the converging set clearly aproach a minimal value until convergence. The diverging example clearly overshoots the minimal value and instead ocilates quite dramatically. It's interesting to see an algorithim designed to find a minimum fail so drastically. "
      ]
    },
    {
      "cell_type": "markdown",
      "metadata": {
        "id": "eNUOtcgdxGR0",
        "colab_type": "text"
      },
      "source": [
        "**d**.    Try different initializations of x as input to the line search method. Does the solution depend on it? Why?\n",
        "\n"
      ]
    },
    {
      "cell_type": "code",
      "metadata": {
        "id": "sXybPMVRyhAN",
        "colab_type": "code",
        "outputId": "54975cfc-4a65-4d0c-808c-71e4f34b8b70",
        "colab": {
          "base_uri": "https://localhost:8080/",
          "height": 232
        }
      },
      "source": [
        "np.random.seed(0)\n",
        "M= 200\n",
        "N= 5\n",
        "\n",
        "A = np.random.normal(0, .25, (M,N))\n",
        "x = np.random.normal(0, .25, (N,1))\n",
        "rate = np.dot(A, x)\n",
        "y = np.random.poisson(np.exp(rate))\n",
        "\n",
        "xinit = np.zeros_like(x)\n",
        "ss_init = 1\n",
        "maxit = 10000\n",
        "tol = 1e-15\n",
        "\n",
        "gd_ls(objective,gradient,y,A,xinit,ss_init,maxit,tol)\n",
        "\n",
        "xinit = np.array([[1],[2],[2],[2],[.5]])\n",
        "gd_ls(objective,gradient,y,A,xinit,ss_init,maxit,tol)\n",
        "\n",
        "xinit = np.array([[2],[4],[2],[3],[4]])\n",
        "gd_ls(objective,gradient,y,A,xinit,ss_init,maxit,tol)\n",
        "\n",
        "xinit = np.array([[10],[4],[2],[3],[4]])\n",
        "gd_ls(objective,gradient,y,A,xinit,ss_init,maxit,tol)"
      ],
      "execution_count": 0,
      "outputs": [
        {
          "output_type": "error",
          "ename": "NameError",
          "evalue": "ignored",
          "traceback": [
            "\u001b[0;31m---------------------------------------------------------------------------\u001b[0m",
            "\u001b[0;31mNameError\u001b[0m                                 Traceback (most recent call last)",
            "\u001b[0;32m<ipython-input-1-98cc3871e4bd>\u001b[0m in \u001b[0;36m<module>\u001b[0;34m()\u001b[0m\n\u001b[0;32m----> 1\u001b[0;31m \u001b[0mnp\u001b[0m\u001b[0;34m.\u001b[0m\u001b[0mrandom\u001b[0m\u001b[0;34m.\u001b[0m\u001b[0mseed\u001b[0m\u001b[0;34m(\u001b[0m\u001b[0;36m0\u001b[0m\u001b[0;34m)\u001b[0m\u001b[0;34m\u001b[0m\u001b[0;34m\u001b[0m\u001b[0m\n\u001b[0m\u001b[1;32m      2\u001b[0m \u001b[0mM\u001b[0m\u001b[0;34m=\u001b[0m \u001b[0;36m200\u001b[0m\u001b[0;34m\u001b[0m\u001b[0;34m\u001b[0m\u001b[0m\n\u001b[1;32m      3\u001b[0m \u001b[0mN\u001b[0m\u001b[0;34m=\u001b[0m \u001b[0;36m5\u001b[0m\u001b[0;34m\u001b[0m\u001b[0;34m\u001b[0m\u001b[0m\n\u001b[1;32m      4\u001b[0m \u001b[0;34m\u001b[0m\u001b[0m\n\u001b[1;32m      5\u001b[0m \u001b[0mA\u001b[0m \u001b[0;34m=\u001b[0m \u001b[0mnp\u001b[0m\u001b[0;34m.\u001b[0m\u001b[0mrandom\u001b[0m\u001b[0;34m.\u001b[0m\u001b[0mnormal\u001b[0m\u001b[0;34m(\u001b[0m\u001b[0;36m0\u001b[0m\u001b[0;34m,\u001b[0m \u001b[0;36m.25\u001b[0m\u001b[0;34m,\u001b[0m \u001b[0;34m(\u001b[0m\u001b[0mM\u001b[0m\u001b[0;34m,\u001b[0m\u001b[0mN\u001b[0m\u001b[0;34m)\u001b[0m\u001b[0;34m)\u001b[0m\u001b[0;34m\u001b[0m\u001b[0;34m\u001b[0m\u001b[0m\n",
            "\u001b[0;31mNameError\u001b[0m: name 'np' is not defined"
          ]
        }
      ]
    },
    {
      "cell_type": "markdown",
      "metadata": {
        "id": "kGGKddTM4Ptf",
        "colab_type": "text"
      },
      "source": [
        "Convergence does not depend on the initialization of x due to the characteristics of backtracking line search. However, for x values that are rather large there are overflow errors due to the limitations of the objective and gradient functions. Clearly there is an error in my implementation, but I was unable to troubleshoot and fix this error."
      ]
    },
    {
      "cell_type": "markdown",
      "metadata": {
        "id": "Eqk9rDzmHKz5",
        "colab_type": "text"
      },
      "source": [
        "**e**.  Load the given data file noisy.npz. Use your code to recover the signal x. Reshape it to a 40 × 40\n",
        "matrix. Visualize it as an image in grayscale using matplotlib. What do you think is the original\n",
        "image?\n"
      ]
    },
    {
      "cell_type": "code",
      "metadata": {
        "id": "FiUq0x35HT7B",
        "colab_type": "code",
        "colab": {}
      },
      "source": [
        "from google.colab import drive \n",
        "drive.mount('drive')"
      ],
      "execution_count": 0,
      "outputs": []
    },
    {
      "cell_type": "code",
      "metadata": {
        "id": "p5h49G5VX1FR",
        "colab_type": "code",
        "colab": {}
      },
      "source": [
        "def gd_ls_graph(f,fp,y,A,xinit,ss_init,maxit,tol):\n",
        "  \"\"\"\n",
        "  Note that ss changes to ss_init\n",
        "  ss_init is the starting stepsize for backtracking\n",
        "  \"\"\"\n",
        "  # Add your code here\n",
        "  count = 0\n",
        "  xList = []\n",
        "  xList.append(xinit)\n",
        "  coef = []\n",
        "  stop = False\n",
        "  a = 1\n",
        "  b = .5\n",
        "  while not stop:\n",
        "    value = f(y, A, xList[count])\n",
        "    gradient = fp(y, A, xList[count])\n",
        "    t = ss_init\n",
        "    while f(y, A, np.subtract(xList[count], (t*gradient))) > value - a/2*t*math.pow(np.linalg.norm(gradient, 2),2):\n",
        "      t = b*t\n",
        "    update = np.subtract(xList[count], (t*gradient))\n",
        "    xList.append(update)\n",
        "    coef.append(update[0])\n",
        "    count+=1\n",
        "    #print(xList[count])\n",
        "    #print(value)\n",
        "    #print(f(y, A, xList[count]))\n",
        "    if count >= maxit:\n",
        "      print(\"maxit\")\n",
        "      break\n",
        "    elif abs((f(y, A, xList[count])-value)/value) < tol:\n",
        "      print(\"convergence\")\n",
        "      break\n",
        "  return xList[count], count, coef\n",
        "\n",
        "with np.load('drive/My Drive/noisy_.npz') as data:\n",
        "    A = data['A']\n",
        "    y = data['y']\n",
        "print(A)\n",
        "#print(y)\n",
        "A[:, np.newaxis]\n",
        "y[:, np.newaxis]\n",
        "ss_init = .000001\n",
        "maxit = 1000\n",
        "tol = 1e-15\n",
        "#print(A.shape)\n",
        "#print(y.shape)\n",
        "#print(xinit.shape)\n",
        "\n",
        "xinit = np.ones(1600)\n",
        "\n",
        "#y = rate = np.dot(A, xinit)\n",
        "#y = np.random.poisson(np.exp(rate))\n",
        "\n",
        "#print(y)\n",
        "\n",
        "xFin2, count2, coef = gd_ls_graph(objective,gradient,y,A,xinit,ss_init,10000,tol)\n",
        "print(xFin2)\n",
        "img = xFin2.reshape((40,40))\n",
        "\n",
        "plt.plot(range(0,count2), np.squeeze(coef))\n",
        "\n",
        "plt.show()\n",
        "\n",
        "import matplotlib.image as mpimg\n",
        "plt.gray()\n",
        "imgplot = plt.imshow(img)"
      ],
      "execution_count": 0,
      "outputs": []
    },
    {
      "cell_type": "markdown",
      "metadata": {
        "id": "oXDbxgHPHWuv",
        "colab_type": "text"
      },
      "source": [
        "Unfortunately I was unable to find any sort of image. I'm hoping it was due to an error in how I converted the coefficient vector into a matrix. However, I also at time was very limited by overflow errors. There may have been a mistake in one of my methods. Late submission by 3 minutes but I see the logo!!"
      ]
    },
    {
      "cell_type": "markdown",
      "metadata": {
        "id": "KqnN_JxcXptz",
        "colab_type": "text"
      },
      "source": [
        "#Add Colab link here: # https://colab.research.google.com/drive/1xo9N3CSbbYAnFqUDpYb67QXkOZ3l9rIb"
      ]
    }
  ]
}