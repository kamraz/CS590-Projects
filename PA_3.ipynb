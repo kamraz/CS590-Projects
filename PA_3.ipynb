{
  "nbformat": 4,
  "nbformat_minor": 0,
  "metadata": {
    "colab": {
      "name": "PA 3",
      "provenance": [],
      "collapsed_sections": []
    },
    "kernelspec": {
      "name": "python3",
      "display_name": "Python 3"
    }
  },
  "cells": [
    {
      "cell_type": "markdown",
      "metadata": {
        "id": "ZAaxEB7Qc0aD",
        "colab_type": "text"
      },
      "source": [
        "#**Instructions:**#\n",
        "*For the following problem, you need to write down detailed, step-by-step derivations, and implement an algorithm to find the solution. You must submit a link to your\n",
        "Colab page to receive full credit. You are encouraged to collaborate and discuss the assignment, but\n",
        "you **HAVE** to write your submission by yourself. Identical submissions will be regarded as plagiarism.* \\\\\n",
        "**Deadline: October 23 11:59pm**"
      ]
    },
    {
      "cell_type": "markdown",
      "metadata": {
        "id": "D3q-MyXme3bI",
        "colab_type": "text"
      },
      "source": [
        "#**Projection onto ellipsoid**# \n",
        "For an arbitrary point (vector) $\\mathbf{y} \\in \\mathbb{R}^N$, we consider the following problem of projecting it onto an ellipsoid (i.e., finding point/points in a set that is/are closest to $\\mathbf{y}$)\n",
        "\\begin{align*}\n",
        "\\underset{\\mathbf{x}}{\\text{minimize}} & \\quad \\frac{1}{2}\\| \\mathbf{x}- \\mathbf{y} \\|_2^2 \\\\\n",
        "\\text{s.t.} & \\quad (\\mathbf{x}-\\boldsymbol{\\mu})^T \\mathbf{F} (\\mathbf{x}-\\boldsymbol{\\mu}) \\leq 1,\n",
        "\\end{align*} \n",
        "where $\\mathbf{F}$ is a positive semidefinite matrix. We assume that $(\\mathbf{y}-\\boldsymbol{\\mu})^T \\mathbf{F} (\\mathbf{y}-\\boldsymbol{\\mu}) > 1$, i.e., $\\mathbf{y}$ is outside the ellipsoid region. Otherwise the problem is trivial. \\\\\n",
        "\n",
        "\n",
        "a) For the special case of $\\boldsymbol{\\mu} = \\mathbf{0}$ and $\\mathbf{F} = \\mathbf{I}$, we are simply projecting onto a circle. In this case, it's easy to see that the solution should be $\\mathbf{x} = \\frac{\\mathbf{y}}{\\| \\mathbf{y} \\|_2}$. Prove it using KKT conditions. \\\\\n",
        "\n",
        "\n"
      ]
    },
    {
      "cell_type": "markdown",
      "metadata": {
        "id": "lID7rP3NRfeR",
        "colab_type": "text"
      },
      "source": [
        "\n",
        "\n",
        "**Add your derivation here**\n",
        "\n",
        "\n",
        "\n"
      ]
    },
    {
      "cell_type": "markdown",
      "metadata": {
        "id": "rSWIIlC8RsQq",
        "colab_type": "text"
      },
      "source": [
        "b) For the generic case when $\\mathbf{F} \\neq \\mathbf{I}$, the solution does not have closed-form. Derive and implement an algorithm to find the solution. Apply your algorithm to the data provided in **proje.npz**. (it contains $\\mathbf{y},\\mathbf{F},\\boldsymbol{\\mu}$) to find $\\mathbf{x}$, and submit your numerical solution (print out the value of $\\mathbf{x}$ that you get). \\\\\n",
        "\n",
        "**Hint**: You will need to use the KKT conditions first and then an iterative algorithm. The algorithm is **briefly** mentioned in class; you will find it somewhere on the lecture slides. \\\\\n",
        "Depending on whether you picked the best method (multiple methods are applicable), you may or may not need the identities listed at [link](https://en.wikipedia.org/wiki/Matrix_calculus). \n"
      ]
    },
    {
      "cell_type": "markdown",
      "metadata": {
        "id": "s8-6OxuNRuUr",
        "colab_type": "text"
      },
      "source": [
        "**SEE PDF AT END** "
      ]
    },
    {
      "cell_type": "code",
      "metadata": {
        "id": "l0P3P7Vw_gA8",
        "colab_type": "code",
        "outputId": "2765bd2a-e1bc-4dc7-cd93-8132c2ec9df6",
        "colab": {
          "base_uri": "https://localhost:8080/",
          "height": 122
        }
      },
      "source": [
        "import timeit\n",
        "import time\n",
        "import numpy as np\n",
        "from scipy import special\n",
        "import matplotlib.pyplot as plt\n",
        "import math\n",
        "\n",
        "from google.colab import drive \n",
        "drive.mount('drive')"
      ],
      "execution_count": 0,
      "outputs": [
        {
          "output_type": "stream",
          "text": [
            "Go to this URL in a browser: https://accounts.google.com/o/oauth2/auth?client_id=947318989803-6bn6qk8qdgf4n4g3pfee6491hc0brc4i.apps.googleusercontent.com&redirect_uri=urn%3Aietf%3Awg%3Aoauth%3A2.0%3Aoob&scope=email%20https%3A%2F%2Fwww.googleapis.com%2Fauth%2Fdocs.test%20https%3A%2F%2Fwww.googleapis.com%2Fauth%2Fdrive%20https%3A%2F%2Fwww.googleapis.com%2Fauth%2Fdrive.photos.readonly%20https%3A%2F%2Fwww.googleapis.com%2Fauth%2Fpeopleapi.readonly&response_type=code\n",
            "\n",
            "Enter your authorization code:\n",
            "··········\n",
            "Mounted at drive\n"
          ],
          "name": "stdout"
        }
      ]
    },
    {
      "cell_type": "code",
      "metadata": {
        "id": "lAc9-pVs_ola",
        "colab_type": "code",
        "colab": {}
      },
      "source": [
        "with np.load('drive/My Drive/proje.npz') as data:\n",
        "    y = data['y']\n",
        "    mu = data['mu']\n",
        "    F = data['F']"
      ],
      "execution_count": 0,
      "outputs": []
    },
    {
      "cell_type": "code",
      "metadata": {
        "id": "WhZ07JF8R4xS",
        "colab_type": "code",
        "outputId": "58ef651d-7ce9-49e7-886c-5502cba16354",
        "colab": {
          "base_uri": "https://localhost:8080/",
          "height": 486
        }
      },
      "source": [
        "def objective(lamb, mu, F, y):\n",
        "  return np.dot(np.dot(np.transpose((np.subtract(y,mu))/(1+2*np.dot(np.transpose(lamb), F))), F), (np.subtract(y,mu))/(1+2*np.dot(np.transpose(lamb), F)))-1\n",
        "\n",
        "#Not needed\n",
        "def gradient(lamb, mu, F, y):\n",
        "  return np.dot(np.subtract(y,mu)/(1+2*np.dot(np.transpose(lamb), F)), np.dot(np.log(1+2*np.dot(np.transpose(lamb), F)), np.subtract(y,mu)))\n",
        "\n",
        "def secant(f,fp,mu,F,y,xinit, xinit2,maxit,tol):\n",
        "  count = 1\n",
        "  xList = []\n",
        "  gradList = []\n",
        "  xList.append(xinit2)\n",
        "  xList.append(xinit)\n",
        "  stop = False\n",
        "  while not stop:\n",
        "    value = f(xList[count], mu, F, y)\n",
        "\n",
        "    change = np.dot(value, np.dot((xList[count]-xList[count-1]), 1/(value-f(xList[count-1], mu, F, y))))\n",
        "    \n",
        "    update = np.subtract(xList[count], change)\n",
        "    xList.append(update)\n",
        "    count+=1\n",
        "    print(value)\n",
        "    if count >= maxit:\n",
        "      print(\"maxit\")\n",
        "      break\n",
        "    elif abs((f(xList[count], mu, F, y)-value)/(value+1.0e-10)) < tol:\n",
        "      print(\"convergence\")\n",
        "      break\n",
        "\n",
        "  return xList[count], xList, count\n",
        "def proj_ellipsoid(y,mu,F):\n",
        "  \"\"\"\n",
        "  Project the point y onto the ellipsoid defined by mean mu and cov F\n",
        "  \"\"\"\n",
        "  lamb = mu+0.01\n",
        "  x2 = mu+0.1\n",
        "  maxit = 100\n",
        "  tol = 1e-15\n",
        "  ss_init = 1\n",
        "\n",
        "  ans, xList, count = secant(objective, gradient, mu, F, y, lamb, x2, maxit, tol)\n",
        "\n",
        "  plt.plot(range(0,count+1), np.squeeze(xList))\n",
        "\n",
        "  plt.show()\n",
        "  return ans\n",
        "\n",
        "ans = proj_ellipsoid(y, mu, F)\n",
        "print(ans)"
      ],
      "execution_count": 0,
      "outputs": [
        {
          "output_type": "stream",
          "text": [
            "5.301093797000256\n",
            "2.0521953879049204\n",
            "1.1540362970818903\n",
            "0.4844707716345289\n",
            "0.17804322862717537\n",
            "0.04186893847438178\n",
            "0.004746452245042221\n",
            "0.00014410301602141296\n",
            "5.131442972761135e-07\n",
            "5.569611438716038e-11\n",
            "0.0\n",
            "convergence\n"
          ],
          "name": "stdout"
        },
        {
          "output_type": "display_data",
          "data": {
            "image/png": "[encoded data removed]",
            "text/plain": [
              "<Figure size 432x288 with 1 Axes>"
            ]
          },
          "metadata": {
            "tags": []
          }
        },
        {
          "output_type": "stream",
          "text": [
            "[3.83264212 5.04654726 4.29474166 4.61881546 4.44829262]\n"
          ],
          "name": "stdout"
        }
      ]
    },
    {
      "cell_type": "code",
      "metadata": {
        "id": "drE6bZ76TkJ6",
        "colab_type": "code",
        "outputId": "b3015b87-f6a5-4ab0-acec-0164c8b8affb",
        "colab": {
          "base_uri": "https://localhost:8080/",
          "height": 51
        }
      },
      "source": [
        "x = np.subtract(y,mu)/(1+2*np.dot(np.transpose(ans), F))+mu\n",
        "print(\"x: \" + str(x))\n",
        "print(np.dot(np.dot(np.transpose(x-mu),F),x-mu))"
      ],
      "execution_count": 0,
      "outputs": [
        {
          "output_type": "stream",
          "text": [
            "x: [ 1.24649578 -0.16111143 -0.65465597 -0.84049671  0.76799941]\n",
            "1.0000000000000002\n"
          ],
          "name": "stdout"
        }
      ]
    },
    {
      "cell_type": "markdown",
      "metadata": {
        "id": "I1AHkwS0RSlb",
        "colab_type": "text"
      },
      "source": [
        "#https://colab.research.google.com/drive/1MjZoe9KEtiVi2oalDcivf610zZXuGxv2"
      ]
    }
  ]
}